{
  "nbformat": 4,
  "nbformat_minor": 0,
  "metadata": {
    "colab": {
      "name": "Trends.ipynb",
      "provenance": [],
      "mount_file_id": "1jY8bVFLYtBXpnqpsY72fUU-zHoMyY96z",
      "authorship_tag": "ABX9TyNF2N78w1dm7R8OgFpoxx/u",
      "include_colab_link": true
    },
    "kernelspec": {
      "name": "python3",
      "display_name": "Python 3"
    }
  },
  "cells": [
    {
      "cell_type": "markdown",
      "metadata": {
        "id": "view-in-github",
        "colab_type": "text"
      },
      "source": [
        "<a href=\"https://colab.research.google.com/github/legendarymaan5/Traditional-hello-world/blob/main/Trends.ipynb\" target=\"_parent\"><img src=\"https://colab.research.google.com/assets/colab-badge.svg\" alt=\"Open In Colab\"/></a>"
      ]
    },
    {
      "cell_type": "code",
      "metadata": {
        "id": "5HwqraTjvkCz"
      },
      "source": [
        "from google.colab import auth\r\n",
        "auth.authenticate_user()\r\n",
        "import gspread\r\n",
        "from oauth2client.client import GoogleCredentials\r\n",
        "gc = gspread.authorize(GoogleCredentials.get_application_default())"
      ],
      "execution_count": 12,
      "outputs": []
    },
    {
      "cell_type": "code",
      "metadata": {
        "id": "3u9GZmgwt05P",
        "colab": {
          "base_uri": "https://localhost:8080/"
        },
        "outputId": "18f483c8-1e41-4066-966e-30d5ce86bfd4"
      },
      "source": [
        "from pytrends.request import TrendReq\r\n",
        "import pandas as pd\r\n",
        "import time\r\n",
        "startTime = time.time()\r\n",
        "pytrend = TrendReq(hl='en-GB', tz=360)\r\n",
        "df = wb = gc.open_by_url('https://docs.google.com/spreadsheets/d/12hU-xg7LlNTCoN5gzqUAzAPCiqkCmmQlU839lMzVMLo/edit?usp=sharing')\r\n",
        "sheet = wb.sheet1\r\n",
        "df2 = sheet.col_values(5)\r\n",
        "d_from = sheet.acell('B7').value\r\n",
        "d_to = sheet.acell('B8').value\r\n",
        "geo1 = sheet.acell('B10').value\r\n",
        "dataset = []\r\n",
        "for x in range(0,len(df2)):\r\n",
        "     keywords = [df2[x]]\r\n",
        "     pytrend.build_payload(\r\n",
        "     kw_list=keywords,\r\n",
        "     cat=0,\r\n",
        "     timeframe= str(d_from + \" \" + d_to),\r\n",
        "     geo= str(geo1))\r\n",
        "     data = pytrend.interest_over_time()\r\n",
        "     if not data.empty:\r\n",
        "          data = data.drop(labels=['isPartial'],axis='columns')\r\n",
        "          dataset.append(data)\r\n",
        "result = pd.concat(dataset, axis=1)\r\n",
        "result.to_csv('search_trends_DOWNLOAD_ME.csv')\r\n",
        "!cp search_trends_DOWNLOAD_ME.csv \"/content/drive/MyDrive/Colab Notebooks\"\r\n",
        "executionTime = (time.time() - startTime)\r\n",
        "print('Execution time in sec.: ' + str(executionTime))"
      ],
      "execution_count": 14,
      "outputs": [
        {
          "output_type": "stream",
          "text": [
            "Execution time in sec.: 36.886085510253906\n"
          ],
          "name": "stdout"
        }
      ]
    }
  ]
}